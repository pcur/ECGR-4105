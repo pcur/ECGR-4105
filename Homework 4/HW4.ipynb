{
 "cells": [
  {
   "cell_type": "markdown",
   "id": "bbe37d9f",
   "metadata": {},
   "source": [
    "In this homework, we will use the cancer dataset. (Note: You can use the built-in function from ML libraries for gradient descent, training, and validation.) Also, sample code for accessing and cleaning up the dataset provided in Canvas. For the evaluation of this homework across all problems, use 80%, 20% split. We will also use US Housing dataset with  80% and 20% split between training and evaluation (test) sets.\n"
   ]
  },
  {
   "cell_type": "code",
   "execution_count": null,
   "id": "b81dd61f",
   "metadata": {},
   "outputs": [],
   "source": [
    "import numpy as np\n",
    "import pandas as pd\n",
    "import matplotlib.pyplot as plt \n",
    "from matplotlib.colors import ListedColormap\n",
    "from sklearn.model_selection import train_test_split as tts\n",
    "from sklearn.model_selection import cross_val_score\n",
    "from sklearn.preprocessing import MinMaxScaler,StandardScaler\n",
    "from sklearn.linear_model import LogisticRegression\n",
    "from sklearn import metrics\n",
    "from sklearn.naive_bayes import GaussianNB\n",
    "from sklearn.model_selection import KFold\n",
    "from sklearn.datasets import load_breast_cancer\n",
    "import seaborn as sns"
   ]
  },
  {
   "cell_type": "code",
   "execution_count": null,
   "id": "19f60e4d",
   "metadata": {},
   "outputs": [],
   "source": [
    "trainSize = 0.8\n",
    "testSize = 0.2"
   ]
  },
  {
   "cell_type": "markdown",
   "id": "aac19429",
   "metadata": {},
   "source": [
    "\n",
    "Problem 1 (50pts):\n",
    "\n",
    "Use the cancer dataset to build an SVM classifier to classify the type of cancer (Malignant vs. benign). Use the PCA feature extraction for your training. Perform N number of independent training (N=1, …, K).\n",
    "\n",
    "1. Identify the optimum number of K, principal components that achieve the highest classification accuracy. \n",
    "2. Plot your classification accuracy, precision, and recall over a different number of Ks. \n",
    "3. Explore different kernel tricks to capture non-linearities within your data. Plot the results and compare the accuracies for different kernels.\n",
    "4. Compare your results against the logistic regression that you have done in homework 3.\n",
    "\n",
    "Make sure to explain and elaborate your results.\n"
   ]
  },
  {
   "cell_type": "code",
   "execution_count": null,
   "id": "9b94a694",
   "metadata": {},
   "outputs": [],
   "source": [
    "#data for training\n",
    "cancer_df = load_breast_cancer(as_frame = True)\n",
    "X = cancer_df.data\n",
    "Y = cancer_df.target\n",
    "sc_X = StandardScaler()\n",
    "X.shape\n",
    "x_train, x_test, y_train, expected = tts(X, Y, train_size = trainSize, test_size = testSize)\n",
    "x_train = sc_X.fit_transform(x_train)\n",
    "x_test = sc_X.transform(x_test)"
   ]
  },
  {
   "cell_type": "code",
   "execution_count": null,
   "id": "279621fd",
   "metadata": {},
   "outputs": [],
   "source": [
    "from sklearn.decomposition import PCA\n",
    "from sklearn.svm import SVC\n",
    "K_max = 30\n",
    "K = np.array(range(K_max))\n",
    "acc = np.zeros(30)\n",
    "prec = np.zeros(30)\n",
    "recall = np.zeros(30)\n",
    "\n",
    "model = SVC(kernel='linear', C=25)\n",
    "\n",
    "for k in K:\n",
    "    pca = PCA(n_components=k+1)\n",
    "    X_pca = pca.fit_transform(X)\n",
    "    x_train_pca, x_test_pca, y_train, expected = tts(X_pca, Y, train_size = trainSize, test_size = testSize, random_state=69)\n",
    "    \n",
    "    x_train_pca = sc_X.fit_transform(x_train_pca)\n",
    "    x_test_pca = sc_X.transform(x_test_pca)\n",
    "    \n",
    "    model.fit(x_train_pca, y_train)\n",
    "    y_pred = model.predict(x_test_pca) # Predictions\n",
    "    \n",
    "    acc[k] = metrics.accuracy_score(expected,y_pred)\n",
    "    prec[k] = metrics.precision_score(expected,y_pred)\n",
    "    recall[k] = metrics.recall_score(expected,y_pred)\n",
    "    \n",
    "plt.plot(K,acc[K], color='green', label='Accuracy')\n",
    "plt.plot(K,prec[K], color='red', label='Precision')\n",
    "plt.plot(K,recall[K], color='blue', label='Recall')\n",
    "plt.grid() \n",
    "plt.xlabel('K') \n",
    "plt.ylabel('') \n",
    "plt.title('Metrics over K using Logistic Regression') \n",
    "plt.legend() \n",
    "plt.show()"
   ]
  },
  {
   "cell_type": "markdown",
   "id": "9bad5d36",
   "metadata": {},
   "source": [
    "\n",
    "Problem 2 (50pts):\n",
    "\n",
    "Develop a SVR regression model that predicts housing price based on the following input variables:\n",
    "\n",
    "Area, bedrooms, bathrooms, stories, mainroad, guestroom, basement, hotwaterheating, airconditioning, parking, prefarea\n",
    "\n",
    "1. Plot your regression model for SVR similar to the sample code provided on Canvas.\n",
    "2. Compare your results against linear regression with regularization loss that you already did in homework1. \n",
    "3. Use the PCA feature extraction for your training. Perform N number of independent training (N=1, …, K). Identify the optimum number of K, principal components that achieve the highest regression accuracy. \n",
    "4. Explore different kernel tricks to capture non-linearities within your data. Plot the results and compare the accuracies for different kernels.\n"
   ]
  }
 ],
 "metadata": {
  "kernelspec": {
   "display_name": "Python 3 (ipykernel)",
   "language": "python",
   "name": "python3"
  },
  "language_info": {
   "codemirror_mode": {
    "name": "ipython",
    "version": 3
   },
   "file_extension": ".py",
   "mimetype": "text/x-python",
   "name": "python",
   "nbconvert_exporter": "python",
   "pygments_lexer": "ipython3",
   "version": "3.9.12"
  }
 },
 "nbformat": 4,
 "nbformat_minor": 5
}
